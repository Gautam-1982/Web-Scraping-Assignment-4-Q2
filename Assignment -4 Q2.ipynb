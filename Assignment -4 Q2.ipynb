{
 "cells": [
  {
   "cell_type": "code",
   "execution_count": 1,
   "metadata": {},
   "outputs": [],
   "source": [
    "import selenium\n",
    "from selenium import webdriver\n",
    "from selenium.webdriver.common.by import By\n",
    "from selenium.webdriver.support.ui import WebDriverWait\n",
    "from selenium.webdriver.support import expected_conditions as EC\n",
    "import time\n",
    "import requests\n",
    "from bs4 import BeautifulSoup\n",
    "import os\n",
    "import pandas as pd\n",
    "from selenium.common.exceptions import StaleElementReferenceException, NoSuchElementException,ElementNotInteractableException,InvalidArgumentException,InvalidCookieDomainException"
   ]
  },
  {
   "cell_type": "code",
   "execution_count": 2,
   "metadata": {},
   "outputs": [],
   "source": [
    "driver = webdriver.Chrome(executable_path=\"D:\\\\chromedriver_win32\\\\chromedriver.exe\")"
   ]
  },
  {
   "cell_type": "code",
   "execution_count": 3,
   "metadata": {},
   "outputs": [],
   "source": [
    "url=\"https://www.bcci.tv/\""
   ]
  },
  {
   "cell_type": "code",
   "execution_count": 4,
   "metadata": {},
   "outputs": [],
   "source": [
    "driver.get(url)"
   ]
  },
  {
   "cell_type": "code",
   "execution_count": 5,
   "metadata": {},
   "outputs": [],
   "source": [
    "WebDriverWait(driver, 10).until(EC.element_to_be_clickable((By.XPATH, '/html/body/div[3]/div/div[2]/div[2]/nav/ul/li[1]/div[2]'))).click()\n",
    "WebDriverWait(driver, 10).until(EC.element_to_be_clickable((By.XPATH, '/html/body/div[3]/div/div[2]/div[2]/nav/ul/li[1]/div[2]/div/ul/li[1]/a'))).click()"
   ]
  },
  {
   "cell_type": "code",
   "execution_count": 6,
   "metadata": {},
   "outputs": [],
   "source": [
    "Match_title=[]\n",
    "Series=[]\n",
    "Place=[]\n",
    "Date=[]\n",
    "Time=[]"
   ]
  },
  {
   "cell_type": "code",
   "execution_count": 7,
   "metadata": {},
   "outputs": [
    {
     "data": {
      "text/plain": [
       "[<selenium.webdriver.remote.webelement.WebElement (session=\"7e8281bc73b3d8f5961ee244ef9a8d2f\", element=\"5a1c6a44-f419-4a2a-a273-6556d7d4962e\")>,\n",
       " <selenium.webdriver.remote.webelement.WebElement (session=\"7e8281bc73b3d8f5961ee244ef9a8d2f\", element=\"4cbc04e0-63ad-4e06-9924-c02cfd1e254e\")>,\n",
       " <selenium.webdriver.remote.webelement.WebElement (session=\"7e8281bc73b3d8f5961ee244ef9a8d2f\", element=\"3d4478e7-8843-43f7-b21e-19306ffe1c5a\")>]"
      ]
     },
     "execution_count": 7,
     "metadata": {},
     "output_type": "execute_result"
    }
   ],
   "source": [
    "match = driver.find_elements_by_xpath(\"//strong[@class='fixture__name fixture__name--with-margin']\")\n",
    "match[0:3]"
   ]
  },
  {
   "cell_type": "code",
   "execution_count": 8,
   "metadata": {},
   "outputs": [
    {
     "data": {
      "text/plain": [
       "['Final', '1st Test', '2nd Test', '3rd Test', '4th Test', '5th Test']"
      ]
     },
     "execution_count": 8,
     "metadata": {},
     "output_type": "execute_result"
    }
   ],
   "source": [
    "for i in match:\n",
    "    matches=i.text.replace(\"\\n\",\" \")\n",
    "    Match_title.append(matches)\n",
    "Match_title"
   ]
  },
  {
   "cell_type": "code",
   "execution_count": 9,
   "metadata": {},
   "outputs": [
    {
     "data": {
      "text/plain": [
       "[<selenium.webdriver.remote.webelement.WebElement (session=\"7e8281bc73b3d8f5961ee244ef9a8d2f\", element=\"96023c0f-40a5-4adb-8293-cc2318ceaddd\")>,\n",
       " <selenium.webdriver.remote.webelement.WebElement (session=\"7e8281bc73b3d8f5961ee244ef9a8d2f\", element=\"0a5fe5d0-9a4c-4f63-a801-62898614f8d4\")>,\n",
       " <selenium.webdriver.remote.webelement.WebElement (session=\"7e8281bc73b3d8f5961ee244ef9a8d2f\", element=\"5e106336-62cb-4858-9301-75eb92637592\")>]"
      ]
     },
     "execution_count": 9,
     "metadata": {},
     "output_type": "execute_result"
    }
   ],
   "source": [
    "series = driver.find_elements_by_xpath(\"//span[@class='u-unskewed-text fixture__tournament-label u-truncated']\")\n",
    "series[0:3]"
   ]
  },
  {
   "cell_type": "code",
   "execution_count": 10,
   "metadata": {},
   "outputs": [
    {
     "data": {
      "text/plain": [
       "['ICC WORLD TEST CHAMPIONSHIP FINAL',\n",
       " 'ENGLAND V INDIA 2021',\n",
       " 'ENGLAND V INDIA 2021',\n",
       " 'ENGLAND V INDIA 2021',\n",
       " 'ENGLAND V INDIA 2021',\n",
       " 'ENGLAND V INDIA 2021']"
      ]
     },
     "execution_count": 10,
     "metadata": {},
     "output_type": "execute_result"
    }
   ],
   "source": [
    "for i in series:\n",
    "    series_=i.text.replace(\"\\n\",\" \")\n",
    "    Series.append(series_)\n",
    "Series"
   ]
  },
  {
   "cell_type": "code",
   "execution_count": 11,
   "metadata": {},
   "outputs": [
    {
     "data": {
      "text/plain": [
       "[<selenium.webdriver.remote.webelement.WebElement (session=\"7e8281bc73b3d8f5961ee244ef9a8d2f\", element=\"31aa70b1-790e-4078-b0da-c1e46f7caa1b\")>,\n",
       " <selenium.webdriver.remote.webelement.WebElement (session=\"7e8281bc73b3d8f5961ee244ef9a8d2f\", element=\"2832c069-1816-4357-847b-70e167ae8ea5\")>,\n",
       " <selenium.webdriver.remote.webelement.WebElement (session=\"7e8281bc73b3d8f5961ee244ef9a8d2f\", element=\"ba6e1f40-de62-4aae-91e2-ae1ee44a6431\")>]"
      ]
     },
     "execution_count": 11,
     "metadata": {},
     "output_type": "execute_result"
    }
   ],
   "source": [
    "place = driver.find_elements_by_xpath(\"//body[@class='js-body-content']/div[4]/div/div/div[2]/section/div/div/a/div/div/p/span\")\n",
    "place[0:3]"
   ]
  },
  {
   "cell_type": "code",
   "execution_count": 12,
   "metadata": {},
   "outputs": [
    {
     "data": {
      "text/plain": [
       "['The Ageas Bowl, Southampton',\n",
       " 'Trent Bridge, Nottingham',\n",
       " \"Lord's, London\",\n",
       " 'Headingley, Leeds',\n",
       " 'The Oval, London',\n",
       " 'Old Trafford, Manchester']"
      ]
     },
     "execution_count": 12,
     "metadata": {},
     "output_type": "execute_result"
    }
   ],
   "source": [
    "for i in place:\n",
    "    places=i.text.replace(\"\\n\",\" \")\n",
    "    Place.append(places)\n",
    "Place"
   ]
  },
  {
   "cell_type": "code",
   "execution_count": 13,
   "metadata": {},
   "outputs": [
    {
     "data": {
      "text/plain": [
       "[<selenium.webdriver.remote.webelement.WebElement (session=\"7e8281bc73b3d8f5961ee244ef9a8d2f\", element=\"037dbac4-cf8a-4c88-843a-e2d0e17f37bb\")>,\n",
       " <selenium.webdriver.remote.webelement.WebElement (session=\"7e8281bc73b3d8f5961ee244ef9a8d2f\", element=\"0438a22a-1864-44eb-820c-2491cb83e17d\")>,\n",
       " <selenium.webdriver.remote.webelement.WebElement (session=\"7e8281bc73b3d8f5961ee244ef9a8d2f\", element=\"8e004e40-5d26-4ecb-b1b9-40f06891f06c\")>]"
      ]
     },
     "execution_count": 13,
     "metadata": {},
     "output_type": "execute_result"
    }
   ],
   "source": [
    "date = driver.find_elements_by_xpath(\"//span[@class='fixture__date']\")\n",
    "date[0:3]"
   ]
  },
  {
   "cell_type": "code",
   "execution_count": 14,
   "metadata": {},
   "outputs": [
    {
     "data": {
      "text/plain": [
       "['18', '04', '12', '25', '02', '10']"
      ]
     },
     "execution_count": 14,
     "metadata": {},
     "output_type": "execute_result"
    }
   ],
   "source": [
    "for i in date:\n",
    "    dates=i.text.replace(\"\\n\",\" \")\n",
    "    Date.append(dates)\n",
    "Date"
   ]
  },
  {
   "cell_type": "code",
   "execution_count": 15,
   "metadata": {},
   "outputs": [
    {
     "data": {
      "text/plain": [
       "[<selenium.webdriver.remote.webelement.WebElement (session=\"7e8281bc73b3d8f5961ee244ef9a8d2f\", element=\"6679883b-c4f1-4d2a-b443-513b57b3f36f\")>,\n",
       " <selenium.webdriver.remote.webelement.WebElement (session=\"7e8281bc73b3d8f5961ee244ef9a8d2f\", element=\"76fc055f-ecf5-4d74-8495-580f4d2954c5\")>,\n",
       " <selenium.webdriver.remote.webelement.WebElement (session=\"7e8281bc73b3d8f5961ee244ef9a8d2f\", element=\"b10dc97f-a606-49ee-8a0f-805afdab7749\")>]"
      ]
     },
     "execution_count": 15,
     "metadata": {},
     "output_type": "execute_result"
    }
   ],
   "source": [
    "month = driver.find_elements_by_xpath(\"//span[@class='fixture__month']\")\n",
    "month[0:3]"
   ]
  },
  {
   "cell_type": "code",
   "execution_count": 17,
   "metadata": {},
   "outputs": [
    {
     "data": {
      "text/plain": [
       "['JUNE', 'AUGUST', 'AUGUST', 'AUGUST', 'SEPTEMBER', 'SEPTEMBER']"
      ]
     },
     "execution_count": 17,
     "metadata": {},
     "output_type": "execute_result"
    }
   ],
   "source": [
    "Month=[]\n",
    "for i in month:\n",
    "    months=i.text.replace(\"\\n\",\" \")\n",
    "    Month.append(months)\n",
    "Month\n"
   ]
  },
  {
   "cell_type": "code",
   "execution_count": 18,
   "metadata": {},
   "outputs": [
    {
     "data": {
      "text/plain": [
       "['18JUNE', '04AUGUST', '12AUGUST', '25AUGUST', '02SEPTEMBER', '10SEPTEMBER']"
      ]
     },
     "execution_count": 18,
     "metadata": {},
     "output_type": "execute_result"
    }
   ],
   "source": [
    "Full_date = [i + j for i, j in zip(Date, Month)]\n",
    "Full_date"
   ]
  },
  {
   "cell_type": "code",
   "execution_count": 19,
   "metadata": {},
   "outputs": [
    {
     "data": {
      "text/plain": [
       "[<selenium.webdriver.remote.webelement.WebElement (session=\"7e8281bc73b3d8f5961ee244ef9a8d2f\", element=\"8c7942aa-7852-4a1f-ae3e-30106d21d8fc\")>,\n",
       " <selenium.webdriver.remote.webelement.WebElement (session=\"7e8281bc73b3d8f5961ee244ef9a8d2f\", element=\"c589b89b-e0e8-4cad-b9e7-c6b99a3770b4\")>,\n",
       " <selenium.webdriver.remote.webelement.WebElement (session=\"7e8281bc73b3d8f5961ee244ef9a8d2f\", element=\"0d0c0340-b703-4978-bc47-bfe40a48714d\")>]"
      ]
     },
     "execution_count": 19,
     "metadata": {},
     "output_type": "execute_result"
    }
   ],
   "source": [
    "time = driver.find_elements_by_xpath(\"//span[@class='fixture__time']\")\n",
    "time[0:3]"
   ]
  },
  {
   "cell_type": "code",
   "execution_count": 20,
   "metadata": {},
   "outputs": [
    {
     "data": {
      "text/plain": [
       "['15:30 IST', '15:30 IST', '15:30 IST', '15:30 IST', '15:30 IST', '15:30 IST']"
      ]
     },
     "execution_count": 20,
     "metadata": {},
     "output_type": "execute_result"
    }
   ],
   "source": [
    "for i in time:\n",
    "    time_=i.text.replace(\"\\n\",\" \")\n",
    "    Time.append(time_)\n",
    "Time"
   ]
  },
  {
   "cell_type": "code",
   "execution_count": 21,
   "metadata": {},
   "outputs": [
    {
     "name": "stdout",
     "output_type": "stream",
     "text": [
      "6 6 6 6 6\n"
     ]
    }
   ],
   "source": [
    "print(len(Match_title),len(Series),len(Place),len(Full_date),len(Time))"
   ]
  },
  {
   "cell_type": "code",
   "execution_count": 22,
   "metadata": {},
   "outputs": [],
   "source": [
    "bcci_fixtures=pd.DataFrame({})\n",
    "bcci_fixtures['Match_title']=Match_title\n",
    "bcci_fixtures['Series']=Series\n",
    "bcci_fixtures['Place']=Place\n",
    "bcci_fixtures['Full_date']=Full_date\n",
    "bcci_fixtures['Time']=Time"
   ]
  },
  {
   "cell_type": "code",
   "execution_count": 23,
   "metadata": {},
   "outputs": [
    {
     "data": {
      "text/html": [
       "<div>\n",
       "<style scoped>\n",
       "    .dataframe tbody tr th:only-of-type {\n",
       "        vertical-align: middle;\n",
       "    }\n",
       "\n",
       "    .dataframe tbody tr th {\n",
       "        vertical-align: top;\n",
       "    }\n",
       "\n",
       "    .dataframe thead th {\n",
       "        text-align: right;\n",
       "    }\n",
       "</style>\n",
       "<table border=\"1\" class=\"dataframe\">\n",
       "  <thead>\n",
       "    <tr style=\"text-align: right;\">\n",
       "      <th></th>\n",
       "      <th>Match_title</th>\n",
       "      <th>Series</th>\n",
       "      <th>Place</th>\n",
       "      <th>Full_date</th>\n",
       "      <th>Time</th>\n",
       "    </tr>\n",
       "  </thead>\n",
       "  <tbody>\n",
       "    <tr>\n",
       "      <th>0</th>\n",
       "      <td>Final</td>\n",
       "      <td>ICC WORLD TEST CHAMPIONSHIP FINAL</td>\n",
       "      <td>The Ageas Bowl, Southampton</td>\n",
       "      <td>18JUNE</td>\n",
       "      <td>15:30 IST</td>\n",
       "    </tr>\n",
       "    <tr>\n",
       "      <th>1</th>\n",
       "      <td>1st Test</td>\n",
       "      <td>ENGLAND V INDIA 2021</td>\n",
       "      <td>Trent Bridge, Nottingham</td>\n",
       "      <td>04AUGUST</td>\n",
       "      <td>15:30 IST</td>\n",
       "    </tr>\n",
       "    <tr>\n",
       "      <th>2</th>\n",
       "      <td>2nd Test</td>\n",
       "      <td>ENGLAND V INDIA 2021</td>\n",
       "      <td>Lord's, London</td>\n",
       "      <td>12AUGUST</td>\n",
       "      <td>15:30 IST</td>\n",
       "    </tr>\n",
       "    <tr>\n",
       "      <th>3</th>\n",
       "      <td>3rd Test</td>\n",
       "      <td>ENGLAND V INDIA 2021</td>\n",
       "      <td>Headingley, Leeds</td>\n",
       "      <td>25AUGUST</td>\n",
       "      <td>15:30 IST</td>\n",
       "    </tr>\n",
       "    <tr>\n",
       "      <th>4</th>\n",
       "      <td>4th Test</td>\n",
       "      <td>ENGLAND V INDIA 2021</td>\n",
       "      <td>The Oval, London</td>\n",
       "      <td>02SEPTEMBER</td>\n",
       "      <td>15:30 IST</td>\n",
       "    </tr>\n",
       "    <tr>\n",
       "      <th>5</th>\n",
       "      <td>5th Test</td>\n",
       "      <td>ENGLAND V INDIA 2021</td>\n",
       "      <td>Old Trafford, Manchester</td>\n",
       "      <td>10SEPTEMBER</td>\n",
       "      <td>15:30 IST</td>\n",
       "    </tr>\n",
       "  </tbody>\n",
       "</table>\n",
       "</div>"
      ],
      "text/plain": [
       "  Match_title                             Series                        Place  \\\n",
       "0       Final  ICC WORLD TEST CHAMPIONSHIP FINAL  The Ageas Bowl, Southampton   \n",
       "1    1st Test               ENGLAND V INDIA 2021     Trent Bridge, Nottingham   \n",
       "2    2nd Test               ENGLAND V INDIA 2021               Lord's, London   \n",
       "3    3rd Test               ENGLAND V INDIA 2021            Headingley, Leeds   \n",
       "4    4th Test               ENGLAND V INDIA 2021             The Oval, London   \n",
       "5    5th Test               ENGLAND V INDIA 2021     Old Trafford, Manchester   \n",
       "\n",
       "     Full_date       Time  \n",
       "0       18JUNE  15:30 IST  \n",
       "1     04AUGUST  15:30 IST  \n",
       "2     12AUGUST  15:30 IST  \n",
       "3     25AUGUST  15:30 IST  \n",
       "4  02SEPTEMBER  15:30 IST  \n",
       "5  10SEPTEMBER  15:30 IST  "
      ]
     },
     "execution_count": 23,
     "metadata": {},
     "output_type": "execute_result"
    }
   ],
   "source": [
    "bcci_fixtures"
   ]
  },
  {
   "cell_type": "code",
   "execution_count": 24,
   "metadata": {},
   "outputs": [],
   "source": [
    "bcci_fixtures.to_csv(\"bcci_fixtures.csv\")"
   ]
  },
  {
   "cell_type": "code",
   "execution_count": 25,
   "metadata": {},
   "outputs": [],
   "source": [
    "driver.close()"
   ]
  },
  {
   "cell_type": "code",
   "execution_count": null,
   "metadata": {},
   "outputs": [],
   "source": []
  },
  {
   "cell_type": "code",
   "execution_count": null,
   "metadata": {},
   "outputs": [],
   "source": []
  }
 ],
 "metadata": {
  "kernelspec": {
   "display_name": "Python 3",
   "language": "python",
   "name": "python3"
  },
  "language_info": {
   "codemirror_mode": {
    "name": "ipython",
    "version": 3
   },
   "file_extension": ".py",
   "mimetype": "text/x-python",
   "name": "python",
   "nbconvert_exporter": "python",
   "pygments_lexer": "ipython3",
   "version": "3.8.3"
  }
 },
 "nbformat": 4,
 "nbformat_minor": 4
}
